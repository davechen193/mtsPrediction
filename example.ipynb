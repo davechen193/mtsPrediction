{
 "cells": [
  {
   "cell_type": "markdown",
   "metadata": {},
   "source": [
    "## Multivariate Time Series Prediction Module Example"
   ]
  },
  {
   "cell_type": "code",
   "execution_count": null,
   "metadata": {},
   "outputs": [],
   "source": [
    "from mtsPrediction import mtsPredictionModule, tsEncodingFFT"
   ]
  },
  {
   "cell_type": "code",
   "execution_count": null,
   "metadata": {},
   "outputs": [],
   "source": [
    "import numpy as np\n",
    "import matplotlib.pyplot as plt\n",
    "\n",
    "t = np.arange(1000)\n",
    "t2 = np.arange(1000) * 0.8\n",
    "ts1 = np.sin(t * 0.1)\n",
    "ts2 = np.cos(t2 * 0.1) + np.sin(t2 * 0.05)\n",
    "ts3 = np.sin(ts1) + np.cos(ts2)\n",
    "ts4 = np.cosh(ts3 * 0.01) * np.sinh(ts3)"
   ]
  },
  {
   "cell_type": "code",
   "execution_count": null,
   "metadata": {},
   "outputs": [],
   "source": [
    "# the multivariate time series we are trying to predict\n",
    "fig, axis = plt.subplots(4, )\n",
    "axis[0].plot(t, ts1)\n",
    "axis[1].plot(t, ts2)\n",
    "axis[2].plot(t, ts3)\n",
    "axis[3].plot(t, ts4)\n",
    "plt.show()"
   ]
  },
  {
   "cell_type": "markdown",
   "metadata": {},
   "source": [
    "In the input multivariate time series, every single example has length 30 with 4 dimensions (given 4 variables); the output dimension has length 15 with 4 dimensions. This is given 30 steps in the past, predict 15 steps into the future."
   ]
  },
  {
   "cell_type": "code",
   "execution_count": null,
   "metadata": {},
   "outputs": [],
   "source": [
    "mts = np.array([ts1, ts2, ts3, ts4]).T\n",
    "\n",
    "horizon = 15; window = 30\n",
    "Xinput = []\n",
    "Xoutput = []\n",
    "for i in range(mts.shape[0]):\n",
    "    if i >= window - 1:\n",
    "        Xinput.append(mts[i - window + 1:i + 1])\n",
    "        if i < mts.shape[0] - horizon:\n",
    "            Xoutput.append(mts[i+1:i + horizon+1])\n",
    "        else:\n",
    "            Xoutput.append(np.zeros((horizon, mts.shape[1])))\n",
    "    else:\n",
    "        Xinput.append(np.zeros((window, mts.shape[1])))\n",
    "        Xoutput.append(np.zeros((horizon, mts.shape[1])))\n",
    "Xexog = np.zeros((mts.shape[0], 0)) # here we are passing in empty exogenous variables, which can be used to introduce additional information besides the time series patterns\n",
    "Xinput = np.array(Xinput)\n",
    "Xoutput = np.array(Xoutput)\n",
    "XinputTrain = Xinput[:int(Xinput.shape[0] * 0.8)]\n",
    "XoutputTrain = Xoutput[:int(Xoutput.shape[0] * 0.8)]\n",
    "XexogTrain = Xexog[:int(Xexog.shape[0] * 0.8)]\n",
    "XinputTest = Xinput[int(Xinput.shape[0] * 0.8):]\n",
    "XoutputTest = Xoutput[int(Xoutput.shape[0] * 0.8):]\n",
    "XexogTest = Xexog[int(Xexog.shape[0] * 0.8):]\n",
    "\n",
    "inputEncoding = tsEncodingFFT()\n",
    "outputEncoding = tsEncodingFFT()\n",
    "\n",
    "model = mtsPredictionModule().fit(Xinput=XinputTrain, Xexog=XexogTrain, Xoutput=XoutputTrain, sig=np.ones(XinputTrain.shape[0]), inputEncoding=inputEncoding, outputEncoding=outputEncoding, horizon=horizon, window=window)"
   ]
  },
  {
   "cell_type": "code",
   "execution_count": null,
   "metadata": {},
   "outputs": [],
   "source": [
    "# now test the prediction results\n",
    "preds = np.array([model.predict(XinputTest[i,:,:], XexogTest[i,:])[-1,:] for i in range(XinputTest.shape[0])])\n",
    "labels = XoutputTest[:,-1,:]"
   ]
  },
  {
   "cell_type": "code",
   "execution_count": null,
   "metadata": {},
   "outputs": [],
   "source": [
    "for j in range(labels.shape[1]):\n",
    "    plt.plot(labels[:,j], label='label')\n",
    "    plt.plot(preds[:,j], label='pred')\n",
    "    plt.legend()\n",
    "    plt.show()"
   ]
  },
  {
   "cell_type": "code",
   "execution_count": null,
   "metadata": {},
   "outputs": [],
   "source": []
  }
 ],
 "metadata": {
  "kernelspec": {
   "display_name": "Python 3",
   "language": "python",
   "name": "python3"
  },
  "language_info": {
   "codemirror_mode": {
    "name": "ipython",
    "version": 3
   },
   "file_extension": ".py",
   "mimetype": "text/x-python",
   "name": "python",
   "nbconvert_exporter": "python",
   "pygments_lexer": "ipython3",
   "version": "3.11.4"
  }
 },
 "nbformat": 4,
 "nbformat_minor": 2
}
